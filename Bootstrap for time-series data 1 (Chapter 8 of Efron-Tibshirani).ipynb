{
 "cells": [
  {
   "cell_type": "code",
   "execution_count": 7,
   "id": "daa2c5d4",
   "metadata": {},
   "outputs": [
    {
     "name": "stdout",
     "output_type": "stream",
     "text": [
      "The estimated value of beta for AR(1) model is: 0.9914489520508081\n",
      "The estimated values of beta for AR(2) model are: [0.54847228 0.44444459]\n"
     ]
    }
   ],
   "source": [
    "import numpy as np\n",
    "import scipy.optimize\n",
    "\n",
    "# Parameters for AR(1) and AR(2) processes\n",
    "T = 48\n",
    "beta1_true = 0.6\n",
    "beta2_true = 0.4\n",
    "sigma = 0.1\n",
    "epsilon = np.random.normal(loc=0, scale=sigma, size=T)\n",
    "\n",
    "# Generate Y from AR(2) model\n",
    "Y = np.zeros(T)\n",
    "Y[0] = epsilon[0]\n",
    "Y[1] = beta1_true * Y[0] + epsilon[1]\n",
    "for t in range(2, T):\n",
    "    Y[t] = beta1_true * Y[t-1] + beta2_true * Y[t-2] + epsilon[t]\n",
    "\n",
    "# Calculate Z = Y - (1/T)*Sum(Y)\n",
    "mean_Y = np.mean(Y)\n",
    "Z = Y - mean_Y\n",
    "\n",
    "# Function to minimize for AR(1)\n",
    "def func_to_minimize_ar1(beta, Z):\n",
    "    T = len(Z)\n",
    "    return sum((Z[t] - beta*Z[t-1])**2 for t in range(1, T))\n",
    "\n",
    "# Function to minimize for AR(2)\n",
    "def func_to_minimize_ar2(beta, Z):\n",
    "    T = len(Z)\n",
    "    return sum((Z[t] - beta[0]*Z[t-1] - beta[1]*Z[t-2])**2 for t in range(2, T))\n",
    "\n",
    "# Initial guess for beta\n",
    "beta_init = 0.5\n",
    "\n",
    "# Use scipy's optimize function to perform the minimization for AR(1)\n",
    "result_ar1 = scipy.optimize.minimize(func_to_minimize_ar1, beta_init, args=(Z,))\n",
    "\n",
    "# The optimal beta is\n",
    "beta_opt_ar1 = result_ar1.x[0]\n",
    "print(f'The estimated value of beta for AR(1) model is: {beta_opt_ar1}')\n",
    "\n",
    "# Initial guess for beta for AR(2)\n",
    "beta_init_ar2 = np.array([0.5, 0.5])\n",
    "\n",
    "# Use scipy's optimize function to perform the minimization for AR(2)\n",
    "result_ar2 = scipy.optimize.minimize(func_to_minimize_ar2, beta_init_ar2, args=(Z,))\n",
    "\n",
    "# The optimal beta is\n",
    "beta_opt_ar2 = result_ar2.x\n",
    "print(f'The estimated values of beta for AR(2) model are: {beta_opt_ar2}')\n"
   ]
  }
 ],
 "metadata": {
  "kernelspec": {
   "display_name": "Python 3 (ipykernel)",
   "language": "python",
   "name": "python3"
  },
  "language_info": {
   "codemirror_mode": {
    "name": "ipython",
    "version": 3
   },
   "file_extension": ".py",
   "mimetype": "text/x-python",
   "name": "python",
   "nbconvert_exporter": "python",
   "pygments_lexer": "ipython3",
   "version": "3.10.9"
  }
 },
 "nbformat": 4,
 "nbformat_minor": 5
}
